{
 "cells": [
  {
   "cell_type": "code",
   "execution_count": 4,
   "metadata": {},
   "outputs": [
    {
     "name": "stdout",
     "output_type": "stream",
     "text": [
      "What natural number would you like to sum up to?o\n",
      "Enter a natural number!\n",
      "What natural number would you like to sum up to?0\n",
      "Enter a natural number!\n",
      "What natural number would you like to sum up to?7\n",
      "The sum of the first 7 natural numbers is 28.\n",
      "The sum of the first 7 odd natural numbers is 49.\n",
      "What natural number would you like to sum up to?8\n",
      "The sum of the first 8 natural numbers is 36.\n",
      "The sum of the first 8 odd natural numbers is 64.\n",
      "What natural number would you like to sum up to?9\n",
      "The sum of the first 9 natural numbers is 45.\n",
      "The sum of the first 9 odd natural numbers is 81.\n",
      "What natural number would you like to sum up to?55\n",
      "The sum of the first 55 natural numbers is 1540.\n",
      "The sum of the first 55 odd natural numbers is 3025.\n",
      "What natural number would you like to sum up to?33\n",
      "The sum of the first 33 natural numbers is 561.\n",
      "The sum of the first 33 odd natural numbers is 1089.\n"
     ]
    }
   ],
   "source": [
    "#                                       Q1. Sum of 1st N natural numbers and N odd numbers.\n",
    "\n",
    "repeat=1\n",
    "\n",
    "while repeat!=6:    #For 5 different values of N.\n",
    "    N=input(\"What natural number would you like to sum up to?\")\n",
    "\n",
    "    try:\n",
    "        p=int(N)\n",
    "\n",
    "        if p<=0:\n",
    "            print(\"Enter a natural number!\")\n",
    "\n",
    "        else:\n",
    "            #Sum of first N natural numbers.\n",
    "            n=1\n",
    "            i=1\n",
    "            while i!=p:\n",
    "                i+=1\n",
    "                n+=i\n",
    "            print(\"The sum of the first \"+N+\" natural numbers is \"+str(n)+\".\")\n",
    "\n",
    "            #Sum of first N odd natural numbers.\n",
    "            i=1\n",
    "            m=1\n",
    "            j=1\n",
    "            while j!=p:\n",
    "                i+=2\n",
    "                m+=i\n",
    "                j+=1\n",
    "            print(\"The sum of the first \"+str(N)+\" odd natural numbers is \"+str(m)+\".\")\n",
    "\n",
    "            #To iterate for 5 values of N.\n",
    "            repeat+=1\n",
    "\n",
    "    except ValueError:\n",
    "        print(\"Enter a natural number!\")"
   ]
  },
  {
   "cell_type": "code",
   "execution_count": 16,
   "metadata": {},
   "outputs": [
    {
     "name": "stdout",
     "output_type": "stream",
     "text": [
      "4.34 + 5.84 + 7.34 + 8.84 = 26.36\n"
     ]
    }
   ],
   "source": [
    "#                                                Q2. Sum of N terms of an AP, GP, HP\n",
    "\n",
    "cd=1.5\n",
    "cr=0.5\n",
    "\n",
    "#A.P.\n",
    "a=input('Please enter the 1st term for the arithmetic progression.')\n",
    "n=input('How many terms do you want to sum up to?')\n",
    "\n",
    "try:\n",
    "    b=float(a)\n",
    "    p=int(n)\n",
    "\n",
    "    if p<0:\n",
    "        print(\"Please enter a natural number for number of terms.\")\n",
    "    else:\n",
    "        total=b\n",
    "        print(a,end='')\n",
    "        for i in range(p-1):\n",
    "            print(' + %s' %(b+cd),end='')\n",
    "            b=b+cd\n",
    "            total=total+b\n",
    "        print(' = %s' %(total))\n",
    "\n",
    "except ValueError:\n",
    "    print('Enter a real number for the first term and a natural number for the number of terms.')\n",
    "\n"
   ]
  },
  {
   "cell_type": "code",
   "execution_count": null,
   "metadata": {},
   "outputs": [],
   "source": []
  },
  {
   "cell_type": "code",
   "execution_count": null,
   "metadata": {},
   "outputs": [],
   "source": []
  },
  {
   "cell_type": "code",
   "execution_count": null,
   "metadata": {},
   "outputs": [],
   "source": []
  },
  {
   "cell_type": "code",
   "execution_count": null,
   "metadata": {},
   "outputs": [],
   "source": []
  },
  {
   "cell_type": "code",
   "execution_count": null,
   "metadata": {},
   "outputs": [],
   "source": []
  },
  {
   "cell_type": "code",
   "execution_count": null,
   "metadata": {},
   "outputs": [],
   "source": []
  },
  {
   "cell_type": "code",
   "execution_count": null,
   "metadata": {},
   "outputs": [],
   "source": []
  },
  {
   "cell_type": "code",
   "execution_count": null,
   "metadata": {},
   "outputs": [],
   "source": []
  },
  {
   "cell_type": "code",
   "execution_count": null,
   "metadata": {},
   "outputs": [],
   "source": []
  },
  {
   "cell_type": "code",
   "execution_count": null,
   "metadata": {},
   "outputs": [],
   "source": []
  }
 ],
 "metadata": {
  "interpreter": {
   "hash": "06cb67651ce969e244f20f184e33f4ddb1106793adfe07cf7ddc131c95c4012f"
  },
  "kernelspec": {
   "display_name": "Python 3 (ipykernel)",
   "language": "python",
   "name": "python3"
  },
  "language_info": {
   "codemirror_mode": {
    "name": "ipython",
    "version": 3
   },
   "file_extension": ".py",
   "mimetype": "text/x-python",
   "name": "python",
   "nbconvert_exporter": "python",
   "pygments_lexer": "ipython3",
   "version": "3.9.6"
  }
 },
 "nbformat": 4,
 "nbformat_minor": 2
}
