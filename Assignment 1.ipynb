{
 "cells": [
  {
   "cell_type": "code",
   "execution_count": 4,
   "source": [
    "#                                       Q1. Sum of 1st N natural numbers and N odd numbers.\r\n",
    "\r\n",
    "repeat=1\r\n",
    "\r\n",
    "while repeat!=6:    #For 5 different values of N.\r\n",
    "    N=input(\"What natural number would you like to sum up to?\")\r\n",
    "\r\n",
    "    try:\r\n",
    "        p=int(N)\r\n",
    "\r\n",
    "        if p<=0:\r\n",
    "            print(\"Enter a natural number!\")\r\n",
    "\r\n",
    "        else:\r\n",
    "            #Sum of first N natural numbers.\r\n",
    "            n=1\r\n",
    "            i=1\r\n",
    "            while i!=p:\r\n",
    "                i+=1\r\n",
    "                n+=i\r\n",
    "            print(\"The sum of the first \"+N+\" natural numbers is \"+str(n)+\".\")\r\n",
    "\r\n",
    "            #Sum of first N odd natural numbers.\r\n",
    "            i=1\r\n",
    "            m=1\r\n",
    "            j=1\r\n",
    "            while j!=p:\r\n",
    "                i+=2\r\n",
    "                m+=i\r\n",
    "                j+=1\r\n",
    "            print(\"The sum of the first \"+str(N)+\" odd natural numbers is \"+str(m)+\".\")\r\n",
    "\r\n",
    "            #To iterate for 5 values of N.\r\n",
    "            repeat+=1\r\n",
    "\r\n",
    "    except ValueError:\r\n",
    "        print(\"Enter a natural number!\")"
   ],
   "outputs": [
    {
     "output_type": "stream",
     "name": "stdout",
     "text": [
      "What natural number would you like to sum up to?o\n",
      "Enter a natural number!\n",
      "What natural number would you like to sum up to?0\n",
      "Enter a natural number!\n",
      "What natural number would you like to sum up to?7\n",
      "The sum of the first 7 natural numbers is 28.\n",
      "The sum of the first 7 odd natural numbers is 49.\n",
      "What natural number would you like to sum up to?8\n",
      "The sum of the first 8 natural numbers is 36.\n",
      "The sum of the first 8 odd natural numbers is 64.\n",
      "What natural number would you like to sum up to?9\n",
      "The sum of the first 9 natural numbers is 45.\n",
      "The sum of the first 9 odd natural numbers is 81.\n",
      "What natural number would you like to sum up to?55\n",
      "The sum of the first 55 natural numbers is 1540.\n",
      "The sum of the first 55 odd natural numbers is 3025.\n",
      "What natural number would you like to sum up to?33\n",
      "The sum of the first 33 natural numbers is 561.\n",
      "The sum of the first 33 odd natural numbers is 1089.\n"
     ]
    }
   ],
   "metadata": {}
  },
  {
   "cell_type": "code",
   "execution_count": 16,
   "source": [
    "#                                                       Q2. Sum of N terms of an AP, GP, HP\r\n",
    "\r\n",
    "cd=1.5\r\n",
    "cr=0.5\r\n",
    "\r\n",
    "#A.P.\r\n",
    "a=input('Please enter the 1st term for the arithmetic progression.')\r\n",
    "n=input('How many terms do you want to sum up to?')\r\n",
    "\r\n",
    "try:\r\n",
    "    b=float(a)\r\n",
    "    p=int(n)\r\n",
    "\r\n",
    "    if p<0:\r\n",
    "        print(\"Please enter a natural number for number of terms.\")\r\n",
    "    else:\r\n",
    "        total=b\r\n",
    "        print(a,end='')\r\n",
    "        for i in range(p-1):\r\n",
    "            print(' + %s' %(b+cd),end='')\r\n",
    "            b=b+cd\r\n",
    "            total=total+b\r\n",
    "        print(' = %s' %(total))\r\n",
    "\r\n",
    "except ValueError:\r\n",
    "    print('Enter a real number for the first term and a natural number for the number of terms.')\r\n",
    "\r\n"
   ],
   "outputs": [
    {
     "output_type": "stream",
     "name": "stdout",
     "text": [
      "4.34 + 5.84 + 7.34 + 8.84 = 26.36\n"
     ]
    }
   ],
   "metadata": {}
  },
  {
   "cell_type": "code",
   "execution_count": null,
   "source": [],
   "outputs": [],
   "metadata": {}
  },
  {
   "cell_type": "code",
   "execution_count": null,
   "source": [],
   "outputs": [],
   "metadata": {}
  },
  {
   "cell_type": "code",
   "execution_count": null,
   "source": [],
   "outputs": [],
   "metadata": {}
  },
  {
   "cell_type": "code",
   "execution_count": null,
   "source": [],
   "outputs": [],
   "metadata": {}
  },
  {
   "cell_type": "code",
   "execution_count": null,
   "source": [],
   "outputs": [],
   "metadata": {}
  },
  {
   "cell_type": "code",
   "execution_count": null,
   "source": [],
   "outputs": [],
   "metadata": {}
  },
  {
   "cell_type": "code",
   "execution_count": null,
   "source": [],
   "outputs": [],
   "metadata": {}
  },
  {
   "cell_type": "code",
   "execution_count": null,
   "source": [],
   "outputs": [],
   "metadata": {}
  },
  {
   "cell_type": "code",
   "execution_count": null,
   "source": [],
   "outputs": [],
   "metadata": {}
  },
  {
   "cell_type": "code",
   "execution_count": null,
   "source": [],
   "outputs": [],
   "metadata": {}
  }
 ],
 "metadata": {
  "interpreter": {
   "hash": "06cb67651ce969e244f20f184e33f4ddb1106793adfe07cf7ddc131c95c4012f"
  },
  "kernelspec": {
   "name": "python3",
   "display_name": "Python 3.9.6 64-bit"
  },
  "language_info": {
   "codemirror_mode": {
    "name": "ipython",
    "version": 3
   },
   "file_extension": ".py",
   "mimetype": "text/x-python",
   "name": "python",
   "nbconvert_exporter": "python",
   "pygments_lexer": "ipython3",
   "version": "3.9.6"
  }
 },
 "nbformat": 4,
 "nbformat_minor": 2
}